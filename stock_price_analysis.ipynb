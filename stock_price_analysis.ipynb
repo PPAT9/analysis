{
 "cells": [
  {
   "cell_type": "code",
   "execution_count": null,
   "metadata": {},
   "outputs": [],
   "source": [
    "import pandas as pd\n",
    "import numpy as np\n",
    "from datetime import datetime, timedelta\n",
    "import pandas_datareader.data as web\n",
    "from urllib.request import urlopen\n",
    "from bs4 import BeautifulSoup\n",
    "import quandl\n",
    "from sklearn.linear_model import LinearRegression\n",
    "from sklearn import preprocessing, model_selection , svm\n"
   ]
  },
  {
   "cell_type": "code",
   "execution_count": null,
   "metadata": {},
   "outputs": [],
   "source": [
    "now_time = datetime.now()\n",
    "if now_time.month != 1:\n",
    "    start_time = datetime(now_time.year, now_time.month - 1, now_time.day)\n",
    "else:\n",
    "    start_time = datetime(now_time.year -1, 12, now_time.day)\n",
    "print(start_time)\n"
   ]
  },
  {
   "cell_type": "code",
   "execution_count": null,
   "metadata": {},
   "outputs": [],
   "source": [
    "# this will give  Date High Low Open Close Volume AjClose\n",
    "# print(web.DataReader('AMZN', 'yahoo', start_time, now_time))\n",
    "# IEX\n",
    "# this will give  Date High Low Open Close Volume \n",
    "# print(web.DataReader(\"BAC\", \"iex\", start_time, now_time))\n",
    "print(\"====================\")\n",
    "print(quandl.get(\"WIKI/AMZN\"))"
   ]
  },
  {
   "cell_type": "code",
   "execution_count": null,
   "metadata": {},
   "outputs": [],
   "source": [
    "def get_american_stock_data(stock_of_interest, start_time, now_time):\n",
    "    \"\"\"Get stock price of american stock.\"\"\"\n",
    "    stock_df = web.DataReader(stock_of_interest, 'yahoo', start_time, now_time)\n",
    "    return stock_df\n",
    "\n",
    "stocks_of_interest = ['AMZN','GOOG','AAPL','CLDR','HDP','ORCL','TSLA']\n",
    "for stock in stocks_of_interest:\n",
    "    #scrape the stock data to a df\n",
    "    stock_df = get_american_stock_dat(stock,start_time, now_time )"
   ]
  },
  {
   "cell_type": "code",
   "execution_count": null,
   "metadata": {},
   "outputs": [],
   "source": [
    "def international_last_month_prices(market, stock):\n",
    "    \"\"\" return a historical stock dataframe for any market and any stock \"\"\"\n",
    "    google_historical_price_site= 'https://www.google.ca/finance/historical?q='\n",
    "    historical_price_page = google_historical_price_site+market+'%3A'+stock\n",
    "    stock_dat = urlopen('https://ca.finance.yahoo.com/quote/APHA.TO/history?period1=1536361200&period2=1544227200&interval=1d&filter=history&frequency=1d')\n",
    "    #then parse the table with BS \n",
    "    historical_page = BeautifulSoup(stock_dat,'lxml')\n",
    "    table_dat = historical_page.find('table',{'class':'W(100%) M(0)'})\n",
    "    rows = table_dat.findAll('td',{'class':'Py(10px) Ta(start) Pend(10px)'})\n",
    "    dates = [x.get_text().rstrip() for x in rows]\n",
    "    #get datetime formatted dates\n",
    "    datetime_dates = [datetime.strptime(x, '%b %d, %Y') for x in dates]\n",
    "    prices = []\n",
    "    #iterate and grab column data\n",
    "    for num, row in enumerate(rows):\n",
    "        row_dat = [datetime_dates[num]] #first column is the dates\n",
    "        for i in row.next_siblings: \n",
    "            row_dat.append(i.get_text().rstrip()) \n",
    "        prices.append(row_dat) #add the row to the list of rows\n",
    "    outdat = pd.DataFrame(prices,columns = ['Date','Open','High','Low','Close','Adj Close','Volume'])\n",
    "    print(outdat)\n",
    "    #cleanup, set index and make volume integers\n",
    "    outdat[\"Volume\"] = outdat[\"Volume\"].apply(lambda x: int(x.replace(',','').replace('-','0')) if x  else None)\n",
    "    #change the other columns to floating point values\n",
    "    \n",
    "    for col in ['Open','High','Low','Close']:\n",
    "        outdat[col] = outdat[col].apply(lambda x: float(x.replace('-','0')))\n",
    "    outdat = outdat.set_index('Date')\n",
    "    outdat = outdat.sort_index() #sort the index so it is oldest to newest\n",
    "    return outdat\n",
    "\n",
    "international_last_month_prices('FRA', 'LHA')"
   ]
  },
  {
   "cell_type": "code",
   "execution_count": 56,
   "metadata": {},
   "outputs": [
    {
     "name": "stdout",
     "output_type": "stream",
     "text": [
      "            Adj. Close  Prediction\n",
      "Date                              \n",
      "2018-03-21     1581.86         NaN\n",
      "2018-03-22     1544.10         NaN\n",
      "2018-03-23     1495.56         NaN\n",
      "2018-03-26     1555.86         NaN\n",
      "2018-03-27     1497.05         NaN\n",
      "[[-0.70904095]\n",
      " [-0.70911489]\n",
      " [-0.7093722 ]\n",
      " ...\n",
      " [ 4.07790031]\n",
      " [ 4.03715557]\n",
      " [ 4.20481944]]\n",
      "[1.54166667e+00 1.51583333e+00 1.58833333e+00 ... 1.49556000e+03\n",
      " 1.55586000e+03 1.49705000e+03]\n",
      "confidence:  0.9885339272669885\n",
      "[1500.10560829 1538.94410471 1550.32780194 1536.43565229 1557.33233646\n",
      " 1572.81884147 1574.77458403 1590.97323443 1614.30396778 1603.70681919\n",
      " 1604.20638387 1584.01121605 1591.23896032 1616.0683877  1630.98092478\n",
      " 1638.80389505 1646.09541354 1674.82569702 1695.55231662 1684.70007118\n",
      " 1687.69745924 1678.47145626 1667.16216228 1638.7294918  1682.92502222\n",
      " 1677.98252062 1637.84728184 1586.25394258 1650.34702782 1587.8376689 ]\n"
     ]
    }
   ],
   "source": [
    "df = quandl.get(\"WIKI/AMZN\")\n",
    "\n",
    "df = df[[\"Adj. Close\"]]\n",
    "\n",
    "forecast_out = int(30) # predicting 30 days into future\n",
    "df['Prediction'] = df[['Adj. Close']].shift(-forecast_out) #  label column with data shifted 30 units up\n",
    "print(df.tail())\n",
    "X = np.array(df.drop(['Prediction'], 1))\n",
    "X = preprocessing.scale(X)\n",
    "X_forecast = X[-forecast_out:] # set X_forecast equal to last 30\n",
    "X = X[:-forecast_out] # remove last 30 from X\n",
    "print(X)\n",
    "\n",
    "y = np.array(df['Prediction'])\n",
    "y = y[:-forecast_out]\n",
    "print(y)\n",
    "\n",
    "X_train, X_test, y_train, y_test = cross_validation.train_test_split(X, y, test_size = 0.2)\n",
    "# Training\n",
    "clf = LinearRegression()\n",
    "clf.fit(X_train,y_train)\n",
    "# Testing\n",
    "confidence = clf.score(X_test, y_test)\n",
    "print(\"confidence: \", confidence)\n",
    "forecast_prediction = clf.predict(X_forecast)\n",
    "print(forecast_prediction)"
   ]
  },
  {
   "cell_type": "code",
   "execution_count": 69,
   "metadata": {},
   "outputs": [
    {
     "name": "stdout",
     "output_type": "stream",
     "text": [
      "                   High          Low         Open        Close   Volume  \\\n",
      "Date                                                                      \n",
      "2018-11-26  1049.310059  1033.910034  1038.349976  1048.619995  1850400   \n",
      "2018-11-27  1057.579956  1038.489990  1041.000000  1044.410034  1803200   \n",
      "2018-11-28  1086.839966  1035.760010  1048.760010  1086.229980  2475400   \n",
      "2018-11-29  1094.244995  1076.000000  1076.079956  1088.300049  1468900   \n",
      "2018-11-30  1095.569946  1077.880005  1089.069946  1094.430054  2580200   \n",
      "\n",
      "              Adj Close       20d_ma       50d_ma  \n",
      "Date                                               \n",
      "2018-11-26  1048.619995  1049.955008  1103.712191  \n",
      "2018-11-27  1044.410034  1051.171509  1101.479391  \n",
      "2018-11-28  1086.229980  1053.672510  1099.979591  \n",
      "2018-11-29  1088.300049  1054.249011  1098.323793  \n",
      "2018-11-30  1094.430054  1055.470514  1096.474994  \n"
     ]
    },
    {
     "ename": "ValueError",
     "evalue": "Input contains NaN, infinity or a value too large for dtype('float64').",
     "output_type": "error",
     "traceback": [
      "\u001b[1;31m---------------------------------------------------------------------------\u001b[0m",
      "\u001b[1;31mValueError\u001b[0m                                Traceback (most recent call last)",
      "\u001b[1;32m<ipython-input-69-9715cca997e6>\u001b[0m in \u001b[0;36m<module>\u001b[1;34m()\u001b[0m\n\u001b[0;32m     19\u001b[0m \u001b[1;33m\u001b[0m\u001b[0m\n\u001b[0;32m     20\u001b[0m \u001b[0mmodel\u001b[0m \u001b[1;33m=\u001b[0m \u001b[0mLinearRegression\u001b[0m\u001b[1;33m(\u001b[0m\u001b[1;33m)\u001b[0m\u001b[1;33m\u001b[0m\u001b[0m\n\u001b[1;32m---> 21\u001b[1;33m \u001b[0mmodel\u001b[0m\u001b[1;33m.\u001b[0m\u001b[0mfit\u001b[0m\u001b[1;33m(\u001b[0m\u001b[0mX_train\u001b[0m\u001b[1;33m,\u001b[0m\u001b[0my_train\u001b[0m\u001b[1;33m)\u001b[0m\u001b[1;33m\u001b[0m\u001b[0m\n\u001b[0m",
      "\u001b[1;32m~\\Anaconda3\\lib\\site-packages\\sklearn\\linear_model\\base.py\u001b[0m in \u001b[0;36mfit\u001b[1;34m(self, X, y, sample_weight)\u001b[0m\n\u001b[0;32m    480\u001b[0m         \u001b[0mn_jobs_\u001b[0m \u001b[1;33m=\u001b[0m \u001b[0mself\u001b[0m\u001b[1;33m.\u001b[0m\u001b[0mn_jobs\u001b[0m\u001b[1;33m\u001b[0m\u001b[0m\n\u001b[0;32m    481\u001b[0m         X, y = check_X_y(X, y, accept_sparse=['csr', 'csc', 'coo'],\n\u001b[1;32m--> 482\u001b[1;33m                          y_numeric=True, multi_output=True)\n\u001b[0m\u001b[0;32m    483\u001b[0m \u001b[1;33m\u001b[0m\u001b[0m\n\u001b[0;32m    484\u001b[0m         \u001b[1;32mif\u001b[0m \u001b[0msample_weight\u001b[0m \u001b[1;32mis\u001b[0m \u001b[1;32mnot\u001b[0m \u001b[1;32mNone\u001b[0m \u001b[1;32mand\u001b[0m \u001b[0mnp\u001b[0m\u001b[1;33m.\u001b[0m\u001b[0matleast_1d\u001b[0m\u001b[1;33m(\u001b[0m\u001b[0msample_weight\u001b[0m\u001b[1;33m)\u001b[0m\u001b[1;33m.\u001b[0m\u001b[0mndim\u001b[0m \u001b[1;33m>\u001b[0m \u001b[1;36m1\u001b[0m\u001b[1;33m:\u001b[0m\u001b[1;33m\u001b[0m\u001b[0m\n",
      "\u001b[1;32m~\\Anaconda3\\lib\\site-packages\\sklearn\\utils\\validation.py\u001b[0m in \u001b[0;36mcheck_X_y\u001b[1;34m(X, y, accept_sparse, dtype, order, copy, force_all_finite, ensure_2d, allow_nd, multi_output, ensure_min_samples, ensure_min_features, y_numeric, warn_on_dtype, estimator)\u001b[0m\n\u001b[0;32m    571\u001b[0m     X = check_array(X, accept_sparse, dtype, order, copy, force_all_finite,\n\u001b[0;32m    572\u001b[0m                     \u001b[0mensure_2d\u001b[0m\u001b[1;33m,\u001b[0m \u001b[0mallow_nd\u001b[0m\u001b[1;33m,\u001b[0m \u001b[0mensure_min_samples\u001b[0m\u001b[1;33m,\u001b[0m\u001b[1;33m\u001b[0m\u001b[0m\n\u001b[1;32m--> 573\u001b[1;33m                     ensure_min_features, warn_on_dtype, estimator)\n\u001b[0m\u001b[0;32m    574\u001b[0m     \u001b[1;32mif\u001b[0m \u001b[0mmulti_output\u001b[0m\u001b[1;33m:\u001b[0m\u001b[1;33m\u001b[0m\u001b[0m\n\u001b[0;32m    575\u001b[0m         y = check_array(y, 'csr', force_all_finite=True, ensure_2d=False,\n",
      "\u001b[1;32m~\\Anaconda3\\lib\\site-packages\\sklearn\\utils\\validation.py\u001b[0m in \u001b[0;36mcheck_array\u001b[1;34m(array, accept_sparse, dtype, order, copy, force_all_finite, ensure_2d, allow_nd, ensure_min_samples, ensure_min_features, warn_on_dtype, estimator)\u001b[0m\n\u001b[0;32m    451\u001b[0m                              % (array.ndim, estimator_name))\n\u001b[0;32m    452\u001b[0m         \u001b[1;32mif\u001b[0m \u001b[0mforce_all_finite\u001b[0m\u001b[1;33m:\u001b[0m\u001b[1;33m\u001b[0m\u001b[0m\n\u001b[1;32m--> 453\u001b[1;33m             \u001b[0m_assert_all_finite\u001b[0m\u001b[1;33m(\u001b[0m\u001b[0marray\u001b[0m\u001b[1;33m)\u001b[0m\u001b[1;33m\u001b[0m\u001b[0m\n\u001b[0m\u001b[0;32m    454\u001b[0m \u001b[1;33m\u001b[0m\u001b[0m\n\u001b[0;32m    455\u001b[0m     \u001b[0mshape_repr\u001b[0m \u001b[1;33m=\u001b[0m \u001b[0m_shape_repr\u001b[0m\u001b[1;33m(\u001b[0m\u001b[0marray\u001b[0m\u001b[1;33m.\u001b[0m\u001b[0mshape\u001b[0m\u001b[1;33m)\u001b[0m\u001b[1;33m\u001b[0m\u001b[0m\n",
      "\u001b[1;32m~\\Anaconda3\\lib\\site-packages\\sklearn\\utils\\validation.py\u001b[0m in \u001b[0;36m_assert_all_finite\u001b[1;34m(X)\u001b[0m\n\u001b[0;32m     42\u001b[0m             and not np.isfinite(X).all()):\n\u001b[0;32m     43\u001b[0m         raise ValueError(\"Input contains NaN, infinity\"\n\u001b[1;32m---> 44\u001b[1;33m                          \" or a value too large for %r.\" % X.dtype)\n\u001b[0m\u001b[0;32m     45\u001b[0m \u001b[1;33m\u001b[0m\u001b[0m\n\u001b[0;32m     46\u001b[0m \u001b[1;33m\u001b[0m\u001b[0m\n",
      "\u001b[1;31mValueError\u001b[0m: Input contains NaN, infinity or a value too large for dtype('float64')."
     ]
    }
   ],
   "source": [
    "# Define my period\n",
    "d1 = datetime(2018,8,1)\n",
    "d2 = datetime(2018,12,1)\n",
    "\n",
    "# Get the data\n",
    "df = web.DataReader(\"GOOG\", 'yahoo', d1, d2)\n",
    "# Calculate some indicators\n",
    "df['20d_ma'] = df['Adj Close'].rolling(20).mean()\n",
    "df['50d_ma'] = df['Adj Close'].rolling(50).mean()\n",
    "print (df[-5:])\n",
    "# Create the model\n",
    "from sklearn.linear_model import LinearRegression\n",
    "from sklearn.cross_validation import train_test_split\n",
    "\n",
    "X = df[list(df.columns)[6:]] # Adj Close and indicators...\n",
    "y = df['Adj Close']\n",
    "\n",
    "X_train, X_test, y_train, y_test = train_test_split(X, y)\n",
    "\n",
    "model = LinearRegression()\n",
    "model.fit(X_train,y_train)"
   ]
  },
  {
   "cell_type": "code",
   "execution_count": 59,
   "metadata": {},
   "outputs": [
    {
     "data": {
      "text/plain": [
       "'0.23.0'"
      ]
     },
     "execution_count": 59,
     "metadata": {},
     "output_type": "execute_result"
    }
   ],
   "source": [
    "pd.__version__"
   ]
  },
  {
   "cell_type": "code",
   "execution_count": 61,
   "metadata": {},
   "outputs": [
    {
     "ename": "AttributeError",
     "evalue": "module 'pandas' has no attribute 'rolling'",
     "output_type": "error",
     "traceback": [
      "\u001b[1;31m---------------------------------------------------------------------------\u001b[0m",
      "\u001b[1;31mAttributeError\u001b[0m                            Traceback (most recent call last)",
      "\u001b[1;32m<ipython-input-61-a00ceff5ca92>\u001b[0m in \u001b[0;36m<module>\u001b[1;34m()\u001b[0m\n\u001b[1;32m----> 1\u001b[1;33m \u001b[0mpd\u001b[0m\u001b[1;33m.\u001b[0m\u001b[0mrolling\u001b[0m\u001b[1;33m(\u001b[0m\u001b[1;33m)\u001b[0m\u001b[1;33m\u001b[0m\u001b[0m\n\u001b[0m",
      "\u001b[1;31mAttributeError\u001b[0m: module 'pandas' has no attribute 'rolling'"
     ]
    }
   ],
   "source": []
  },
  {
   "cell_type": "code",
   "execution_count": null,
   "metadata": {},
   "outputs": [],
   "source": []
  }
 ],
 "metadata": {
  "kernelspec": {
   "display_name": "Python 3",
   "language": "python",
   "name": "python3"
  },
  "language_info": {
   "codemirror_mode": {
    "name": "ipython",
    "version": 3
   },
   "file_extension": ".py",
   "mimetype": "text/x-python",
   "name": "python",
   "nbconvert_exporter": "python",
   "pygments_lexer": "ipython3",
   "version": "3.6.5"
  }
 },
 "nbformat": 4,
 "nbformat_minor": 2
}
